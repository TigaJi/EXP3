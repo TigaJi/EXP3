{
 "cells": [
  {
   "cell_type": "code",
   "execution_count": 54,
   "id": "f833a82c",
   "metadata": {},
   "outputs": [],
   "source": [
    "import pandas as pd\n",
    "import numpy as np\n",
    "import yfinance as yf\n",
    "from sklearn.preprocessing import MinMaxScaler\n",
    "import matplotlib.pyplot as plt\n",
    "import pickle\n",
    "from exp3 import EXP3\n",
    "from scipy.stats import ttest_rel"
   ]
  },
  {
   "cell_type": "markdown",
   "id": "ab96fc36",
   "metadata": {},
   "source": [
    "## Get data"
   ]
  },
  {
   "cell_type": "code",
   "execution_count": 55,
   "id": "597be261",
   "metadata": {},
   "outputs": [
    {
     "name": "stdout",
     "output_type": "stream",
     "text": [
      "[*********************100%***********************]  100 of 100 completed\n"
     ]
    }
   ],
   "source": [
    "with open('sp100tickers.pickle','rb') as f:\n",
    "    tickers = pickle.load(f)\n",
    "data = yf.download(list(tickers), start='2017-01-01', end='2022-01-01')\n",
    "data = pd.DataFrame(data)\n",
    "data = data['Close'].reset_index(drop = True)\n",
    "data = data.pct_change().dropna().reset_index(drop = True)"
   ]
  },
  {
   "cell_type": "markdown",
   "id": "3ba094ee",
   "metadata": {},
   "source": [
    "## Experiment with SP100 stocks in 5 years\n",
    "For every round\n",
    "- Randomly select 20 stocks from sp100\n",
    "- Backtest using exp3\n",
    "- Store the exp3 cumulative return and buy and hold return\n",
    "\n",
    "## Finally conduct pair-wise t-test to see the significance\n"
   ]
  },
  {
   "cell_type": "code",
   "execution_count": 58,
   "id": "3adcae85",
   "metadata": {},
   "outputs": [],
   "source": [
    "EXP3_rets = []\n",
    "BAH_rets = []\n",
    "num_rounds = 100\n",
    "for i in range(num_rounds):\n",
    "    portfolio = np.random.choice(tickers,20)\n",
    "    temp_data = data[portfolio]\n",
    "    exp3 = EXP3(temp_data,0.1)\n",
    "    exp3.backtest(len(temp_data))\n",
    "    rewards = exp3.data.cumsum()\n",
    "    EXP3_rets.append(rewards.loc[rewards.index[-1],'exp3'])\n",
    "    BAH_rets.append(rewards.loc[rewards.index[-1],'bah'])"
   ]
  },
  {
   "cell_type": "markdown",
   "id": "1f86b7fb",
   "metadata": {},
   "source": [
    "## With Gamma = 0.1 , 75% of the time, exp3 strategy will out perform buy and hold"
   ]
  },
  {
   "cell_type": "code",
   "execution_count": 59,
   "id": "5b094bec",
   "metadata": {},
   "outputs": [
    {
     "data": {
      "text/plain": [
       "0.75"
      ]
     },
     "execution_count": 59,
     "metadata": {},
     "output_type": "execute_result"
    }
   ],
   "source": [
    "(np.array(EXP3_rets)-np.array(BAH_rets) > 0).mean()"
   ]
  },
  {
   "cell_type": "markdown",
   "id": "71c2f070",
   "metadata": {},
   "source": [
    "## T test shows significant evidence that exp3 yields higher return than buy and hold"
   ]
  },
  {
   "cell_type": "code",
   "execution_count": 60,
   "id": "96bc425b",
   "metadata": {},
   "outputs": [
    {
     "data": {
      "text/plain": [
       "Ttest_relResult(statistic=5.0486962826756265, pvalue=1.0137294612295095e-06)"
      ]
     },
     "execution_count": 60,
     "metadata": {},
     "output_type": "execute_result"
    }
   ],
   "source": [
    "ttest_rel(EXP3_rets,BAH_rets,alternative = 'greater')"
   ]
  },
  {
   "cell_type": "code",
   "execution_count": null,
   "id": "9cc41789",
   "metadata": {},
   "outputs": [],
   "source": []
  }
 ],
 "metadata": {
  "kernelspec": {
   "display_name": "Python 3 (ipykernel)",
   "language": "python",
   "name": "python3"
  },
  "language_info": {
   "codemirror_mode": {
    "name": "ipython",
    "version": 3
   },
   "file_extension": ".py",
   "mimetype": "text/x-python",
   "name": "python",
   "nbconvert_exporter": "python",
   "pygments_lexer": "ipython3",
   "version": "3.9.13"
  }
 },
 "nbformat": 4,
 "nbformat_minor": 5
}
